{
 "cells": [
  {
   "cell_type": "code",
   "execution_count": 1,
   "id": "273cdd11",
   "metadata": {},
   "outputs": [],
   "source": [
    "from selenium import webdriver"
   ]
  },
  {
   "cell_type": "code",
   "execution_count": 2,
   "id": "598dc6e0",
   "metadata": {},
   "outputs": [],
   "source": [
    "driver = webdriver.Chrome()"
   ]
  },
  {
   "cell_type": "code",
   "execution_count": 3,
   "id": "bd5ca558",
   "metadata": {},
   "outputs": [],
   "source": [
    "driver.get('https://www.statsf1.com/pt/pneus.aspx')"
   ]
  },
  {
   "cell_type": "code",
   "execution_count": 4,
   "id": "ddfaa8cf",
   "metadata": {},
   "outputs": [],
   "source": [
    "from selenium.webdriver.common.keys import Keys"
   ]
  },
  {
   "cell_type": "code",
   "execution_count": 5,
   "id": "f5fc4688",
   "metadata": {},
   "outputs": [],
   "source": [
    "from selenium.webdriver.common.by import By"
   ]
  },
  {
   "cell_type": "code",
   "execution_count": 6,
   "id": "ecaf05ce",
   "metadata": {},
   "outputs": [],
   "source": [
    "lista = driver.find_elements(By.TAG_NAME, \"td\")"
   ]
  },
  {
   "cell_type": "code",
   "execution_count": 7,
   "id": "06840f9b",
   "metadata": {},
   "outputs": [
    {
     "data": {
      "text/plain": [
       "['Pneus',\n",
       " 'Início',\n",
       " 'Avon',\n",
       " '1954',\n",
       " 'Bridgestone',\n",
       " '1976',\n",
       " 'Continental',\n",
       " '1954',\n",
       " 'Dunlop',\n",
       " '1950',\n",
       " 'Englebert',\n",
       " '1950',\n",
       " 'Firestone',\n",
       " '1950',\n",
       " 'Goodyear',\n",
       " '1964',\n",
       " 'Michelin',\n",
       " '1977',\n",
       " 'Pirelli',\n",
       " '1950',\n",
       " '',\n",
       " '']"
      ]
     },
     "execution_count": 7,
     "metadata": {},
     "output_type": "execute_result"
    }
   ],
   "source": [
    "dados = []\n",
    "\n",
    "for elemento in lista:\n",
    "    dados.append(elemento.text)\n",
    "    \n",
    "dados"
   ]
  },
  {
   "cell_type": "code",
   "execution_count": 8,
   "id": "0f145d1d",
   "metadata": {},
   "outputs": [
    {
     "data": {
      "text/plain": [
       "['Avon',\n",
       " 'Bridgestone',\n",
       " 'Continental',\n",
       " 'Dunlop',\n",
       " 'Englebert',\n",
       " 'Firestone',\n",
       " 'Goodyear',\n",
       " 'Michelin',\n",
       " 'Pirelli',\n",
       " '']"
      ]
     },
     "execution_count": 8,
     "metadata": {},
     "output_type": "execute_result"
    }
   ],
   "source": [
    "pneu_marca = dados [2::2]\n",
    "pneu_marca"
   ]
  },
  {
   "cell_type": "code",
   "execution_count": 9,
   "id": "a8d94658",
   "metadata": {},
   "outputs": [
    {
     "data": {
      "text/plain": [
       "['Avon',\n",
       " 'Bridgestone',\n",
       " 'Continental',\n",
       " 'Dunlop',\n",
       " 'Englebert',\n",
       " 'Firestone',\n",
       " 'Goodyear',\n",
       " 'Michelin',\n",
       " 'Pirelli']"
      ]
     },
     "execution_count": 9,
     "metadata": {},
     "output_type": "execute_result"
    }
   ],
   "source": [
    "pneu_marca = pneu_marca[:-1]\n",
    "pneu_marca"
   ]
  },
  {
   "cell_type": "code",
   "execution_count": 16,
   "id": "6eb67f9c",
   "metadata": {},
   "outputs": [
    {
     "data": {
      "text/plain": [
       "['Avon',\n",
       " '1954',\n",
       " 'Bridgestone',\n",
       " '1976',\n",
       " 'Continental',\n",
       " '1954',\n",
       " 'Dunlop',\n",
       " '1950',\n",
       " 'Englebert',\n",
       " '1950',\n",
       " 'Firestone',\n",
       " '1950',\n",
       " 'Goodyear',\n",
       " '1964',\n",
       " 'Michelin',\n",
       " '1977',\n",
       " 'Pirelli',\n",
       " '1950',\n",
       " '',\n",
       " '']"
      ]
     },
     "execution_count": 16,
     "metadata": {},
     "output_type": "execute_result"
    }
   ],
   "source": [
    "pneu_ano = dados[2:] \n",
    " \n",
    "pneu_ano"
   ]
  },
  {
   "cell_type": "code",
   "execution_count": 17,
   "id": "bbae9f11",
   "metadata": {},
   "outputs": [
    {
     "data": {
      "text/plain": [
       "['Início',\n",
       " '1954',\n",
       " '1976',\n",
       " '1954',\n",
       " '1950',\n",
       " '1950',\n",
       " '1950',\n",
       " '1964',\n",
       " '1977',\n",
       " '1950',\n",
       " '']"
      ]
     },
     "execution_count": 17,
     "metadata": {},
     "output_type": "execute_result"
    }
   ],
   "source": [
    "pneu_ano = dados[1::2] \n",
    "pneu_ano"
   ]
  },
  {
   "cell_type": "code",
   "execution_count": 18,
   "id": "2621050c",
   "metadata": {},
   "outputs": [
    {
     "data": {
      "text/plain": [
       "['1954', '1976', '1954', '1950', '1950', '1950', '1964', '1977', '1950', '']"
      ]
     },
     "execution_count": 18,
     "metadata": {},
     "output_type": "execute_result"
    }
   ],
   "source": [
    "pneu_ano = pneu_ano[1:] \n",
    "pneu_ano"
   ]
  },
  {
   "cell_type": "code",
   "execution_count": 19,
   "id": "737840f8",
   "metadata": {},
   "outputs": [
    {
     "data": {
      "text/plain": [
       "['1954', '1976', '1954', '1950', '1950', '1950', '1964', '1977', '1950']"
      ]
     },
     "execution_count": 19,
     "metadata": {},
     "output_type": "execute_result"
    }
   ],
   "source": [
    "pneu_ano = pneu_ano[:-1] \n",
    "pneu_ano"
   ]
  },
  {
   "cell_type": "code",
   "execution_count": 20,
   "id": "8d920853",
   "metadata": {},
   "outputs": [],
   "source": [
    "import pandas as pd"
   ]
  },
  {
   "cell_type": "code",
   "execution_count": 21,
   "id": "0ca005f4",
   "metadata": {},
   "outputs": [],
   "source": [
    "df = pd.DataFrame({\n",
    "    'Pneu':pneu_marca,\n",
    "    'Ano':pneu_ano,\n",
    "})"
   ]
  },
  {
   "cell_type": "code",
   "execution_count": 22,
   "id": "b1c47218",
   "metadata": {},
   "outputs": [
    {
     "data": {
      "text/html": [
       "<div>\n",
       "<style scoped>\n",
       "    .dataframe tbody tr th:only-of-type {\n",
       "        vertical-align: middle;\n",
       "    }\n",
       "\n",
       "    .dataframe tbody tr th {\n",
       "        vertical-align: top;\n",
       "    }\n",
       "\n",
       "    .dataframe thead th {\n",
       "        text-align: right;\n",
       "    }\n",
       "</style>\n",
       "<table border=\"1\" class=\"dataframe\">\n",
       "  <thead>\n",
       "    <tr style=\"text-align: right;\">\n",
       "      <th></th>\n",
       "      <th>Pneu</th>\n",
       "      <th>Ano</th>\n",
       "    </tr>\n",
       "  </thead>\n",
       "  <tbody>\n",
       "    <tr>\n",
       "      <th>0</th>\n",
       "      <td>Avon</td>\n",
       "      <td>1954</td>\n",
       "    </tr>\n",
       "    <tr>\n",
       "      <th>1</th>\n",
       "      <td>Bridgestone</td>\n",
       "      <td>1976</td>\n",
       "    </tr>\n",
       "    <tr>\n",
       "      <th>2</th>\n",
       "      <td>Continental</td>\n",
       "      <td>1954</td>\n",
       "    </tr>\n",
       "    <tr>\n",
       "      <th>3</th>\n",
       "      <td>Dunlop</td>\n",
       "      <td>1950</td>\n",
       "    </tr>\n",
       "    <tr>\n",
       "      <th>4</th>\n",
       "      <td>Englebert</td>\n",
       "      <td>1950</td>\n",
       "    </tr>\n",
       "    <tr>\n",
       "      <th>5</th>\n",
       "      <td>Firestone</td>\n",
       "      <td>1950</td>\n",
       "    </tr>\n",
       "    <tr>\n",
       "      <th>6</th>\n",
       "      <td>Goodyear</td>\n",
       "      <td>1964</td>\n",
       "    </tr>\n",
       "    <tr>\n",
       "      <th>7</th>\n",
       "      <td>Michelin</td>\n",
       "      <td>1977</td>\n",
       "    </tr>\n",
       "    <tr>\n",
       "      <th>8</th>\n",
       "      <td>Pirelli</td>\n",
       "      <td>1950</td>\n",
       "    </tr>\n",
       "  </tbody>\n",
       "</table>\n",
       "</div>"
      ],
      "text/plain": [
       "          Pneu   Ano\n",
       "0         Avon  1954\n",
       "1  Bridgestone  1976\n",
       "2  Continental  1954\n",
       "3       Dunlop  1950\n",
       "4    Englebert  1950\n",
       "5    Firestone  1950\n",
       "6     Goodyear  1964\n",
       "7     Michelin  1977\n",
       "8      Pirelli  1950"
      ]
     },
     "execution_count": 22,
     "metadata": {},
     "output_type": "execute_result"
    }
   ],
   "source": [
    "df"
   ]
  },
  {
   "cell_type": "code",
   "execution_count": 24,
   "id": "2ce42dbc",
   "metadata": {},
   "outputs": [],
   "source": [
    "df.to_excel('Pneu_ano.xlsx',index=False)"
   ]
  },
  {
   "cell_type": "code",
   "execution_count": null,
   "id": "33e8fb92",
   "metadata": {},
   "outputs": [],
   "source": []
  }
 ],
 "metadata": {
  "kernelspec": {
   "display_name": "Python 3 (ipykernel)",
   "language": "python",
   "name": "python3"
  },
  "language_info": {
   "codemirror_mode": {
    "name": "ipython",
    "version": 3
   },
   "file_extension": ".py",
   "mimetype": "text/x-python",
   "name": "python",
   "nbconvert_exporter": "python",
   "pygments_lexer": "ipython3",
   "version": "3.11.5"
  }
 },
 "nbformat": 4,
 "nbformat_minor": 5
}
